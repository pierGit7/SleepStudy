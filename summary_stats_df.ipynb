{
 "cells": [
  {
   "cell_type": "code",
   "execution_count": 6,
   "metadata": {},
   "outputs": [],
   "source": [
    "import pandas as pd\n",
    "df = pd.read_csv(\"wine_data_fixed.csv\")"
   ]
  },
  {
   "cell_type": "code",
   "execution_count": 7,
   "metadata": {},
   "outputs": [
    {
     "name": "stdout",
     "output_type": "stream",
     "text": [
      "           Alcohol  Malic acid         Ash  Alcalinity of ash   Magnesium  \\\n",
      "count   177.000000  177.000000  177.000000         177.000000  177.000000   \n",
      "mean     12.993672    2.339887    2.366158          19.516949   99.587571   \n",
      "std       0.808808    1.119314    0.275080           3.336071   14.174018   \n",
      "min      11.030000    0.740000    1.360000          10.600000   70.000000   \n",
      "25%      12.360000    1.600000    2.210000          17.200000   88.000000   \n",
      "50%      13.050000    1.870000    2.360000          19.500000   98.000000   \n",
      "75%      13.670000    3.100000    2.560000          21.500000  107.000000   \n",
      "max      14.830000    5.800000    3.230000          30.000000  162.000000   \n",
      "median   13.050000    1.870000    2.360000          19.500000   98.000000   \n",
      "\n",
      "        Total phenols  Flavanoids  Nonflavanoid phenols  Proanthocyanins  \\\n",
      "count      177.000000  177.000000            177.000000       177.000000   \n",
      "mean         2.292260    2.023446              0.362316         1.586949   \n",
      "std          0.626465    0.998658              0.124653         0.571545   \n",
      "min          0.980000    0.340000              0.130000         0.410000   \n",
      "25%          1.740000    1.200000              0.270000         1.250000   \n",
      "50%          2.350000    2.130000              0.340000         1.550000   \n",
      "75%          2.800000    2.860000              0.440000         1.950000   \n",
      "max          3.880000    5.080000              0.660000         3.580000   \n",
      "median       2.350000    2.130000              0.340000         1.550000   \n",
      "\n",
      "        Color intensity         Hue  OD280/OD315 of diluted wines      Proline  \n",
      "count        177.000000  177.000000                    177.000000   177.000000  \n",
      "mean           5.054802    0.956983                      2.604294   745.096045  \n",
      "std            2.324446    0.229135                      0.705103   314.884046  \n",
      "min            1.280000    0.480000                      1.270000   278.000000  \n",
      "25%            3.210000    0.780000                      1.930000   500.000000  \n",
      "50%            4.680000    0.960000                      2.780000   672.000000  \n",
      "75%            6.200000    1.120000                      3.170000   985.000000  \n",
      "max           13.000000    1.710000                      4.000000  1680.000000  \n",
      "median         4.680000    0.960000                      2.780000   672.000000  \n"
     ]
    }
   ],
   "source": [
    "summary_stats = df.describe()\n",
    "\n",
    "median = df.median()\n",
    "summary_stats.loc['median'] = median\n",
    "\n",
    "summary_stats = summary_stats.loc[['count', 'mean', 'std', 'min', '25%', '50%', '75%', 'max', 'median']]\n",
    "#summary_stats = summary_stats.round(2)\n",
    "print(summary_stats)"
   ]
  },
  {
   "cell_type": "code",
   "execution_count": 9,
   "metadata": {},
   "outputs": [
    {
     "name": "stdout",
     "output_type": "stream",
     "text": [
      "LaTeX table saved to 'summary_stats_table.tex'\n"
     ]
    }
   ],
   "source": [
    "latex_table = summary_stats.to_latex(float_format=\"%.2f\")\n",
    "\n",
    "# Save the LaTeX table to a .tex file\n",
    "with open('summary_stats_table.tex', 'w') as f:\n",
    "    f.write(latex_table)\n",
    "\n",
    "print(\"LaTeX table saved to 'summary_stats_table.tex'\")"
   ]
  }
 ],
 "metadata": {
  "kernelspec": {
   "display_name": "introml",
   "language": "python",
   "name": "python3"
  },
  "language_info": {
   "codemirror_mode": {
    "name": "ipython",
    "version": 3
   },
   "file_extension": ".py",
   "mimetype": "text/x-python",
   "name": "python",
   "nbconvert_exporter": "python",
   "pygments_lexer": "ipython3",
   "version": "3.11.9"
  }
 },
 "nbformat": 4,
 "nbformat_minor": 2
}
